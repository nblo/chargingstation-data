{
 "cells": [
  {
   "cell_type": "code",
   "execution_count": 1,
   "metadata": {},
   "outputs": [],
   "source": [
    "import json\n",
    "import requests\n",
    "import pandas as pd\n",
    "import numpy as np\n",
    "import glob\n",
    "\n",
    "%load_ext autoreload\n",
    "%autoreload 2\n",
    "\n",
    "import sys\n",
    "sys.path.append(\"../code/\")"
   ]
  },
  {
   "cell_type": "code",
   "execution_count": 2,
   "metadata": {},
   "outputs": [],
   "source": [
    "scraped_files = glob.glob(\"../data/scraped_data/*.pkl\")"
   ]
  },
  {
   "cell_type": "code",
   "execution_count": 3,
   "metadata": {},
   "outputs": [
    {
     "data": {
      "text/plain": [
       "10592"
      ]
     },
     "execution_count": 3,
     "metadata": {},
     "output_type": "execute_result"
    }
   ],
   "source": [
    "len(scraped_files)"
   ]
  },
  {
   "cell_type": "code",
   "execution_count": 5,
   "metadata": {},
   "outputs": [],
   "source": [
    "from prep_extracts import extract_master_data, extract_status"
   ]
  },
  {
   "cell_type": "markdown",
   "metadata": {},
   "source": [
    "# Master data"
   ]
  },
  {
   "cell_type": "code",
   "execution_count": null,
   "metadata": {},
   "outputs": [],
   "source": [
    "dict_master_data = extract_master_data(pd.read_pickle(scraped_files[-1]),\n",
    "                                       drop_col_dicts=False,\n",
    "                                       drop_col_status=False)"
   ]
  },
  {
   "cell_type": "code",
   "execution_count": 14,
   "metadata": {},
   "outputs": [],
   "source": [
    "df_cs = dict_master_data[\"charging_stations\"]"
   ]
  },
  {
   "cell_type": "code",
   "execution_count": 15,
   "metadata": {},
   "outputs": [],
   "source": [
    "df_cp = dict_master_data[\"charging_points\"]"
   ]
  },
  {
   "cell_type": "code",
   "execution_count": 16,
   "metadata": {},
   "outputs": [],
   "source": [
    "df_conn = dict_master_data[\"connectors\"]"
   ]
  },
  {
   "cell_type": "code",
   "execution_count": 17,
   "metadata": {},
   "outputs": [],
   "source": [
    "df_cs.to_json(\"../data/udacity_nanodegree/charging_stations.json\")"
   ]
  },
  {
   "cell_type": "code",
   "execution_count": 18,
   "metadata": {},
   "outputs": [],
   "source": [
    "df_cp.to_json(\"../data/udacity_nanodegree/charging_points.json\")"
   ]
  },
  {
   "cell_type": "code",
   "execution_count": 19,
   "metadata": {},
   "outputs": [],
   "source": [
    "df_conn.to_json(\"../data/udacity_nanodegree/connectors.json\")"
   ]
  },
  {
   "cell_type": "code",
   "execution_count": 10,
   "metadata": {},
   "outputs": [
    {
     "name": "stdout",
     "output_type": "stream",
     "text": [
      "charging_stations\n",
      "(1155, 17)\n",
      "charging_points\n",
      "(2414, 16)\n",
      "connectors\n",
      "(2796, 11)\n"
     ]
    }
   ],
   "source": [
    "for t in dict_master_data: \n",
    "    print(t)\n",
    "    print(dict_master_data[t].shape)"
   ]
  },
  {
   "cell_type": "code",
   "execution_count": null,
   "metadata": {},
   "outputs": [],
   "source": []
  },
  {
   "cell_type": "markdown",
   "metadata": {},
   "source": [
    "# Master data"
   ]
  },
  {
   "cell_type": "code",
   "execution_count": 12,
   "metadata": {},
   "outputs": [],
   "source": [
    "import tqdm"
   ]
  },
  {
   "cell_type": "code",
   "execution_count": 13,
   "metadata": {},
   "outputs": [
    {
     "name": "stderr",
     "output_type": "stream",
     "text": [
      "100%|████████████████████████████████████████████████████████████████████████████| 10592/10592 [43:12<00:00,  4.09it/s]\n"
     ]
    }
   ],
   "source": [
    "from prep_extracts import extract_status\n",
    "\n",
    "status_cp = []\n",
    "\n",
    "for f in tqdm.tqdm(scraped_files, total=len(scraped_files)): \n",
    "    df_status_cp = extract_status(f)\n",
    "    \n",
    "    status_cp.append(df_status_cp)"
   ]
  },
  {
   "cell_type": "code",
   "execution_count": 17,
   "metadata": {},
   "outputs": [],
   "source": [
    "df_status_cps = pd.concat(status_cp)"
   ]
  },
  {
   "cell_type": "code",
   "execution_count": 21,
   "metadata": {},
   "outputs": [
    {
     "data": {
      "text/plain": [
       "23.937549999999998"
      ]
     },
     "execution_count": 21,
     "metadata": {},
     "output_type": "execute_result"
    }
   ],
   "source": [
    "df_status_cps.shape[0] * 10**-6"
   ]
  },
  {
   "cell_type": "code",
   "execution_count": 56,
   "metadata": {},
   "outputs": [
    {
     "ename": "NameError",
     "evalue": "name 'df_status_cp' is not defined",
     "output_type": "error",
     "traceback": [
      "\u001b[1;31m---------------------------------------------------------------------------\u001b[0m",
      "\u001b[1;31mNameError\u001b[0m                                 Traceback (most recent call last)",
      "\u001b[1;32m<ipython-input-56-338db2818302>\u001b[0m in \u001b[0;36m<module>\u001b[1;34m\u001b[0m\n\u001b[1;32m----> 1\u001b[1;33m \u001b[0mdf_status_cp\u001b[0m\u001b[1;33m.\u001b[0m\u001b[0mshape\u001b[0m\u001b[1;33m\u001b[0m\u001b[1;33m\u001b[0m\u001b[0m\n\u001b[0m",
      "\u001b[1;31mNameError\u001b[0m: name 'df_status_cp' is not defined"
     ]
    }
   ],
   "source": []
  },
  {
   "cell_type": "code",
   "execution_count": 57,
   "metadata": {},
   "outputs": [],
   "source": [
    "df_status.sample(10_000).to_csv(\"../data/udacity_nanodegree/status_cp_sample.csv\", sep=\";\")"
   ]
  },
  {
   "cell_type": "code",
   "execution_count": 48,
   "metadata": {},
   "outputs": [
    {
     "name": "stderr",
     "output_type": "stream",
     "text": [
      "100%|████████████████████████████████████████████████████████████████████████████| 10592/10592 [49:39<00:00,  3.56it/s]\n"
     ]
    }
   ],
   "source": [
    "from prep_extracts import extract_status\n",
    "\n",
    "status_conn = []\n",
    "\n",
    "for f in tqdm.tqdm(scraped_files, total=len(scraped_files)): \n",
    "    df_status_conn = extract_status(f, return_status_conn=True)\n",
    "    \n",
    "    status_conn.append(df_status_conn)"
   ]
  },
  {
   "cell_type": "code",
   "execution_count": 49,
   "metadata": {},
   "outputs": [],
   "source": [
    "df_status_conns = pd.concat(status_conn)"
   ]
  },
  {
   "cell_type": "code",
   "execution_count": 53,
   "metadata": {},
   "outputs": [],
   "source": [
    "df_status_conns.sample(10_000).to_csv(\"../data/udacity_nanodegree/status_conn_sample.csv\", sep=\";\")"
   ]
  },
  {
   "cell_type": "markdown",
   "metadata": {},
   "source": [
    "## Data model"
   ]
  },
  {
   "cell_type": "markdown",
   "metadata": {},
   "source": [
    "## Staging"
   ]
  },
  {
   "cell_type": "markdown",
   "metadata": {},
   "source": [
    "### Status charging points"
   ]
  },
  {
   "cell_type": "code",
   "execution_count": 25,
   "metadata": {},
   "outputs": [
    {
     "data": {
      "text/html": [
       "<div>\n",
       "<style scoped>\n",
       "    .dataframe tbody tr th:only-of-type {\n",
       "        vertical-align: middle;\n",
       "    }\n",
       "\n",
       "    .dataframe tbody tr th {\n",
       "        vertical-align: top;\n",
       "    }\n",
       "\n",
       "    .dataframe thead th {\n",
       "        text-align: right;\n",
       "    }\n",
       "</style>\n",
       "<table border=\"1\" class=\"dataframe\">\n",
       "  <thead>\n",
       "    <tr style=\"text-align: right;\">\n",
       "      <th></th>\n",
       "      <th>id</th>\n",
       "      <th>status</th>\n",
       "      <th>timestamp</th>\n",
       "    </tr>\n",
       "  </thead>\n",
       "  <tbody>\n",
       "    <tr>\n",
       "      <th>0</th>\n",
       "      <td>DE*REK*E00025*001</td>\n",
       "      <td>AVAILABLE</td>\n",
       "      <td>2021-09-28 09:13:53+02:00</td>\n",
       "    </tr>\n",
       "    <tr>\n",
       "      <th>1</th>\n",
       "      <td>DE*REK*E00025*002</td>\n",
       "      <td>AVAILABLE</td>\n",
       "      <td>2021-09-28 09:13:53+02:00</td>\n",
       "    </tr>\n",
       "    <tr>\n",
       "      <th>2</th>\n",
       "      <td>DE*REK*E00095*001</td>\n",
       "      <td>CHARGING</td>\n",
       "      <td>2021-09-28 09:13:53+02:00</td>\n",
       "    </tr>\n",
       "    <tr>\n",
       "      <th>3</th>\n",
       "      <td>DE*REK*E00095*002</td>\n",
       "      <td>CHARGING</td>\n",
       "      <td>2021-09-28 09:13:53+02:00</td>\n",
       "    </tr>\n",
       "    <tr>\n",
       "      <th>4</th>\n",
       "      <td>DE*REK*E00103*003</td>\n",
       "      <td>AVAILABLE</td>\n",
       "      <td>2021-09-28 09:13:53+02:00</td>\n",
       "    </tr>\n",
       "  </tbody>\n",
       "</table>\n",
       "</div>"
      ],
      "text/plain": [
       "                  id     status                  timestamp\n",
       "0  DE*REK*E00025*001  AVAILABLE  2021-09-28 09:13:53+02:00\n",
       "1  DE*REK*E00025*002  AVAILABLE  2021-09-28 09:13:53+02:00\n",
       "2  DE*REK*E00095*001   CHARGING  2021-09-28 09:13:53+02:00\n",
       "3  DE*REK*E00095*002   CHARGING  2021-09-28 09:13:53+02:00\n",
       "4  DE*REK*E00103*003  AVAILABLE  2021-09-28 09:13:53+02:00"
      ]
     },
     "execution_count": 25,
     "metadata": {},
     "output_type": "execute_result"
    }
   ],
   "source": [
    "df_status_cp.head()"
   ]
  },
  {
   "cell_type": "code",
   "execution_count": 35,
   "metadata": {},
   "outputs": [
    {
     "data": {
      "text/plain": [
       "Index(['id', 'status', 'timestamp'], dtype='object')"
      ]
     },
     "execution_count": 35,
     "metadata": {},
     "output_type": "execute_result"
    }
   ],
   "source": [
    "df_status.columns"
   ]
  },
  {
   "cell_type": "code",
   "execution_count": null,
   "metadata": {},
   "outputs": [],
   "source": []
  },
  {
   "cell_type": "markdown",
   "metadata": {},
   "source": [
    "### Status connectors"
   ]
  },
  {
   "cell_type": "code",
   "execution_count": 51,
   "metadata": {},
   "outputs": [
    {
     "data": {
      "text/html": [
       "<div>\n",
       "<style scoped>\n",
       "    .dataframe tbody tr th:only-of-type {\n",
       "        vertical-align: middle;\n",
       "    }\n",
       "\n",
       "    .dataframe tbody tr th {\n",
       "        vertical-align: top;\n",
       "    }\n",
       "\n",
       "    .dataframe thead th {\n",
       "        text-align: right;\n",
       "    }\n",
       "</style>\n",
       "<table border=\"1\" class=\"dataframe\">\n",
       "  <thead>\n",
       "    <tr style=\"text-align: right;\">\n",
       "      <th></th>\n",
       "      <th>status</th>\n",
       "      <th>id</th>\n",
       "      <th>timestamp</th>\n",
       "    </tr>\n",
       "  </thead>\n",
       "  <tbody>\n",
       "    <tr>\n",
       "      <th>0</th>\n",
       "      <td>AVAILABLE</td>\n",
       "      <td>447</td>\n",
       "      <td>2021-09-28 09:13:53+02:00</td>\n",
       "    </tr>\n",
       "    <tr>\n",
       "      <th>1</th>\n",
       "      <td>AVAILABLE</td>\n",
       "      <td>448</td>\n",
       "      <td>2021-09-28 09:13:53+02:00</td>\n",
       "    </tr>\n",
       "    <tr>\n",
       "      <th>2</th>\n",
       "      <td>CHARGING</td>\n",
       "      <td>494</td>\n",
       "      <td>2021-09-28 09:13:53+02:00</td>\n",
       "    </tr>\n",
       "    <tr>\n",
       "      <th>3</th>\n",
       "      <td>CHARGING</td>\n",
       "      <td>495</td>\n",
       "      <td>2021-09-28 09:13:53+02:00</td>\n",
       "    </tr>\n",
       "    <tr>\n",
       "      <th>4</th>\n",
       "      <td>AVAILABLE</td>\n",
       "      <td>425</td>\n",
       "      <td>2021-09-28 09:13:53+02:00</td>\n",
       "    </tr>\n",
       "  </tbody>\n",
       "</table>\n",
       "</div>"
      ],
      "text/plain": [
       "      status   id                  timestamp\n",
       "0  AVAILABLE  447  2021-09-28 09:13:53+02:00\n",
       "1  AVAILABLE  448  2021-09-28 09:13:53+02:00\n",
       "2   CHARGING  494  2021-09-28 09:13:53+02:00\n",
       "3   CHARGING  495  2021-09-28 09:13:53+02:00\n",
       "4  AVAILABLE  425  2021-09-28 09:13:53+02:00"
      ]
     },
     "execution_count": 51,
     "metadata": {},
     "output_type": "execute_result"
    }
   ],
   "source": [
    "df_status_conns.head()"
   ]
  },
  {
   "cell_type": "code",
   "execution_count": 52,
   "metadata": {},
   "outputs": [
    {
     "ename": "NameError",
     "evalue": "name 'df_staus_conns' is not defined",
     "output_type": "error",
     "traceback": [
      "\u001b[1;31m---------------------------------------------------------------------------\u001b[0m",
      "\u001b[1;31mNameError\u001b[0m                                 Traceback (most recent call last)",
      "\u001b[1;32m<ipython-input-52-2b8e3f504cb2>\u001b[0m in \u001b[0;36m<module>\u001b[1;34m\u001b[0m\n\u001b[1;32m----> 1\u001b[1;33m \u001b[0mdf_staus_conns\u001b[0m\u001b[1;33m.\u001b[0m\u001b[0mcolumns\u001b[0m\u001b[1;33m\u001b[0m\u001b[1;33m\u001b[0m\u001b[0m\n\u001b[0m",
      "\u001b[1;31mNameError\u001b[0m: name 'df_staus_conns' is not defined"
     ]
    }
   ],
   "source": [
    "df_staus_conns.columns"
   ]
  },
  {
   "cell_type": "code",
   "execution_count": null,
   "metadata": {},
   "outputs": [],
   "source": []
  },
  {
   "cell_type": "markdown",
   "metadata": {},
   "source": [
    "### Charging stations"
   ]
  },
  {
   "cell_type": "code",
   "execution_count": 36,
   "metadata": {},
   "outputs": [
    {
     "data": {
      "text/plain": [
       "Index(['id', 'name', 'address', 'city', 'postal_code', 'country', 'directions',\n",
       "       'distance_in_m', 'owner', 'roaming', 'evses', 'latitude', 'longitude',\n",
       "       'operator_name', 'operator_hotline', 'open_24_7',\n",
       "       'opening_times_expanded'],\n",
       "      dtype='object')"
      ]
     },
     "execution_count": 36,
     "metadata": {},
     "output_type": "execute_result"
    }
   ],
   "source": [
    "df_cs.columns"
   ]
  },
  {
   "cell_type": "code",
   "execution_count": 37,
   "metadata": {},
   "outputs": [
    {
     "data": {
      "text/html": [
       "<div>\n",
       "<style scoped>\n",
       "    .dataframe tbody tr th:only-of-type {\n",
       "        vertical-align: middle;\n",
       "    }\n",
       "\n",
       "    .dataframe tbody tr th {\n",
       "        vertical-align: top;\n",
       "    }\n",
       "\n",
       "    .dataframe thead th {\n",
       "        text-align: right;\n",
       "    }\n",
       "</style>\n",
       "<table border=\"1\" class=\"dataframe\">\n",
       "  <thead>\n",
       "    <tr style=\"text-align: right;\">\n",
       "      <th></th>\n",
       "      <th>id</th>\n",
       "      <th>name</th>\n",
       "      <th>address</th>\n",
       "      <th>city</th>\n",
       "      <th>postal_code</th>\n",
       "      <th>country</th>\n",
       "      <th>directions</th>\n",
       "      <th>distance_in_m</th>\n",
       "      <th>owner</th>\n",
       "      <th>roaming</th>\n",
       "      <th>evses</th>\n",
       "      <th>latitude</th>\n",
       "      <th>longitude</th>\n",
       "      <th>operator_name</th>\n",
       "      <th>operator_hotline</th>\n",
       "      <th>open_24_7</th>\n",
       "      <th>opening_times_expanded</th>\n",
       "    </tr>\n",
       "  </thead>\n",
       "  <tbody>\n",
       "    <tr>\n",
       "      <th>0</th>\n",
       "      <td>2</td>\n",
       "      <td>TankE - ADAC Köln Kalk</td>\n",
       "      <td>Erna-Scheffler-Straße 5</td>\n",
       "      <td>Köln</td>\n",
       "      <td>50679</td>\n",
       "      <td>DE</td>\n",
       "      <td>Zufahrt kann nur über die \"Straße des 17. Juni...</td>\n",
       "      <td>0</td>\n",
       "      <td>None</td>\n",
       "      <td>False</td>\n",
       "      <td>[{'uid': '303', 'id': 'DE*REK*E00025*001', 'st...</td>\n",
       "      <td>50.940991</td>\n",
       "      <td>6.992267</td>\n",
       "      <td>RheinEnergie AG</td>\n",
       "      <td>+4922134645600</td>\n",
       "      <td>False</td>\n",
       "      <td>[{'weekday': 1, 'period_begin': '07:00:00', 'p...</td>\n",
       "    </tr>\n",
       "    <tr>\n",
       "      <th>1</th>\n",
       "      <td>3</td>\n",
       "      <td>TankE - Agrippabad</td>\n",
       "      <td>Agrippastraße 45</td>\n",
       "      <td>Köln</td>\n",
       "      <td>50676</td>\n",
       "      <td>DE</td>\n",
       "      <td></td>\n",
       "      <td>0</td>\n",
       "      <td>KölnBäder GmbH</td>\n",
       "      <td>False</td>\n",
       "      <td>[{'uid': '349', 'id': 'DE*REK*E00095*001', 'st...</td>\n",
       "      <td>50.933123</td>\n",
       "      <td>6.952300</td>\n",
       "      <td>RheinEnergie AG</td>\n",
       "      <td>+4922134645600</td>\n",
       "      <td>True</td>\n",
       "      <td>-</td>\n",
       "    </tr>\n",
       "    <tr>\n",
       "      <th>2</th>\n",
       "      <td>7</td>\n",
       "      <td>TankE - Auto Laukat</td>\n",
       "      <td>Siegburgerstraße  232-238</td>\n",
       "      <td>Köln</td>\n",
       "      <td>51105</td>\n",
       "      <td>DE</td>\n",
       "      <td></td>\n",
       "      <td>0</td>\n",
       "      <td>None</td>\n",
       "      <td>False</td>\n",
       "      <td>[{'uid': '289', 'id': 'DE*REK*E00103*003', 'st...</td>\n",
       "      <td>50.920410</td>\n",
       "      <td>6.984919</td>\n",
       "      <td>RheinEnergie AG</td>\n",
       "      <td>+4922134645600</td>\n",
       "      <td>True</td>\n",
       "      <td>-</td>\n",
       "    </tr>\n",
       "    <tr>\n",
       "      <th>3</th>\n",
       "      <td>13</td>\n",
       "      <td>TankE - AXA</td>\n",
       "      <td>Colonia-Allee 10-20</td>\n",
       "      <td>Köln</td>\n",
       "      <td>51067</td>\n",
       "      <td>DE</td>\n",
       "      <td>Der Standort befindet sich an der Zufahrt zum ...</td>\n",
       "      <td>0</td>\n",
       "      <td>None</td>\n",
       "      <td>False</td>\n",
       "      <td>[{'uid': '128', 'id': 'DE*REK*E00066*001', 'st...</td>\n",
       "      <td>50.963563</td>\n",
       "      <td>7.051716</td>\n",
       "      <td>RheinEnergie AG</td>\n",
       "      <td>+4922134645600</td>\n",
       "      <td>True</td>\n",
       "      <td>-</td>\n",
       "    </tr>\n",
       "    <tr>\n",
       "      <th>4</th>\n",
       "      <td>20</td>\n",
       "      <td>TankE - Bornheim</td>\n",
       "      <td>Rathausstraße 2</td>\n",
       "      <td>Bornheim</td>\n",
       "      <td>53332</td>\n",
       "      <td>DE</td>\n",
       "      <td>Ecke \"Alter Weiher\"</td>\n",
       "      <td>0</td>\n",
       "      <td>None</td>\n",
       "      <td>False</td>\n",
       "      <td>[{'uid': '102', 'id': 'DE*REK*E00052*001', 'st...</td>\n",
       "      <td>50.757272</td>\n",
       "      <td>7.004436</td>\n",
       "      <td>RheinEnergie AG</td>\n",
       "      <td>+4922134645600</td>\n",
       "      <td>True</td>\n",
       "      <td>-</td>\n",
       "    </tr>\n",
       "  </tbody>\n",
       "</table>\n",
       "</div>"
      ],
      "text/plain": [
       "   id                    name                    address      city  \\\n",
       "0   2  TankE - ADAC Köln Kalk    Erna-Scheffler-Straße 5      Köln   \n",
       "1   3      TankE - Agrippabad           Agrippastraße 45      Köln   \n",
       "2   7     TankE - Auto Laukat  Siegburgerstraße  232-238      Köln   \n",
       "3  13             TankE - AXA        Colonia-Allee 10-20      Köln   \n",
       "4  20        TankE - Bornheim            Rathausstraße 2  Bornheim   \n",
       "\n",
       "  postal_code country                                         directions  \\\n",
       "0       50679      DE  Zufahrt kann nur über die \"Straße des 17. Juni...   \n",
       "1       50676      DE                                                      \n",
       "2       51105      DE                                                      \n",
       "3       51067      DE  Der Standort befindet sich an der Zufahrt zum ...   \n",
       "4       53332      DE                               Ecke \"Alter Weiher\"    \n",
       "\n",
       "  distance_in_m           owner  roaming  \\\n",
       "0             0            None    False   \n",
       "1             0  KölnBäder GmbH    False   \n",
       "2             0            None    False   \n",
       "3             0            None    False   \n",
       "4             0            None    False   \n",
       "\n",
       "                                               evses   latitude  longitude  \\\n",
       "0  [{'uid': '303', 'id': 'DE*REK*E00025*001', 'st...  50.940991   6.992267   \n",
       "1  [{'uid': '349', 'id': 'DE*REK*E00095*001', 'st...  50.933123   6.952300   \n",
       "2  [{'uid': '289', 'id': 'DE*REK*E00103*003', 'st...  50.920410   6.984919   \n",
       "3  [{'uid': '128', 'id': 'DE*REK*E00066*001', 'st...  50.963563   7.051716   \n",
       "4  [{'uid': '102', 'id': 'DE*REK*E00052*001', 'st...  50.757272   7.004436   \n",
       "\n",
       "     operator_name operator_hotline  open_24_7  \\\n",
       "0  RheinEnergie AG   +4922134645600      False   \n",
       "1  RheinEnergie AG   +4922134645600       True   \n",
       "2  RheinEnergie AG   +4922134645600       True   \n",
       "3  RheinEnergie AG   +4922134645600       True   \n",
       "4  RheinEnergie AG   +4922134645600       True   \n",
       "\n",
       "                              opening_times_expanded  \n",
       "0  [{'weekday': 1, 'period_begin': '07:00:00', 'p...  \n",
       "1                                                  -  \n",
       "2                                                  -  \n",
       "3                                                  -  \n",
       "4                                                  -  "
      ]
     },
     "execution_count": 37,
     "metadata": {},
     "output_type": "execute_result"
    }
   ],
   "source": [
    "df_cs.head()"
   ]
  },
  {
   "cell_type": "code",
   "execution_count": 38,
   "metadata": {},
   "outputs": [],
   "source": []
  },
  {
   "cell_type": "markdown",
   "metadata": {},
   "source": [
    "### Charging points"
   ]
  },
  {
   "cell_type": "code",
   "execution_count": 39,
   "metadata": {},
   "outputs": [
    {
     "data": {
      "text/html": [
       "<div>\n",
       "<style scoped>\n",
       "    .dataframe tbody tr th:only-of-type {\n",
       "        vertical-align: middle;\n",
       "    }\n",
       "\n",
       "    .dataframe tbody tr th {\n",
       "        vertical-align: top;\n",
       "    }\n",
       "\n",
       "    .dataframe thead th {\n",
       "        text-align: right;\n",
       "    }\n",
       "</style>\n",
       "<table border=\"1\" class=\"dataframe\">\n",
       "  <thead>\n",
       "    <tr style=\"text-align: right;\">\n",
       "      <th></th>\n",
       "      <th>id_cs</th>\n",
       "      <th>dict_info</th>\n",
       "      <th>chargePointPublicComment</th>\n",
       "      <th>chargePointParkingSpaceNumbers</th>\n",
       "      <th>uid</th>\n",
       "      <th>chargePointPosition</th>\n",
       "      <th>physical_reference</th>\n",
       "      <th>floor_level</th>\n",
       "      <th>chargingStationPosition</th>\n",
       "      <th>id</th>\n",
       "      <th>parkingsensor_status</th>\n",
       "      <th>connectors</th>\n",
       "      <th>capabilities</th>\n",
       "      <th>roaming</th>\n",
       "      <th>status</th>\n",
       "      <th>vehicle_type</th>\n",
       "    </tr>\n",
       "  </thead>\n",
       "  <tbody>\n",
       "    <tr>\n",
       "      <th>0</th>\n",
       "      <td>2</td>\n",
       "      <td>{'uid': '303', 'id': 'DE*REK*E00025*001', 'sta...</td>\n",
       "      <td>None</td>\n",
       "      <td>None</td>\n",
       "      <td>303</td>\n",
       "      <td>rechts</td>\n",
       "      <td>25R</td>\n",
       "      <td></td>\n",
       "      <td>None</td>\n",
       "      <td>DE*REK*E00025*001</td>\n",
       "      <td>-</td>\n",
       "      <td>[{'id': '447', 'status': 'CHARGING', 'standard...</td>\n",
       "      <td>[RFID_READER, REMOTE_START_STOP_CAPABLE]</td>\n",
       "      <td>False</td>\n",
       "      <td>CHARGING</td>\n",
       "      <td>four_wheeled</td>\n",
       "    </tr>\n",
       "    <tr>\n",
       "      <th>1</th>\n",
       "      <td>2</td>\n",
       "      <td>{'uid': '304', 'id': 'DE*REK*E00025*002', 'sta...</td>\n",
       "      <td>None</td>\n",
       "      <td>None</td>\n",
       "      <td>304</td>\n",
       "      <td>links</td>\n",
       "      <td>25L</td>\n",
       "      <td></td>\n",
       "      <td>None</td>\n",
       "      <td>DE*REK*E00025*002</td>\n",
       "      <td>-</td>\n",
       "      <td>[{'id': '448', 'status': 'CHARGING', 'standard...</td>\n",
       "      <td>[RFID_READER, REMOTE_START_STOP_CAPABLE]</td>\n",
       "      <td>False</td>\n",
       "      <td>CHARGING</td>\n",
       "      <td>four_wheeled</td>\n",
       "    </tr>\n",
       "    <tr>\n",
       "      <th>2</th>\n",
       "      <td>3</td>\n",
       "      <td>{'uid': '349', 'id': 'DE*REK*E00095*001', 'sta...</td>\n",
       "      <td>None</td>\n",
       "      <td>None</td>\n",
       "      <td>349</td>\n",
       "      <td>rechts</td>\n",
       "      <td>95R</td>\n",
       "      <td></td>\n",
       "      <td>None</td>\n",
       "      <td>DE*REK*E00095*001</td>\n",
       "      <td>-</td>\n",
       "      <td>[{'id': '494', 'status': 'CHARGING', 'standard...</td>\n",
       "      <td>[RFID_READER, REMOTE_START_STOP_CAPABLE]</td>\n",
       "      <td>False</td>\n",
       "      <td>CHARGING</td>\n",
       "      <td>four_wheeled</td>\n",
       "    </tr>\n",
       "    <tr>\n",
       "      <th>3</th>\n",
       "      <td>3</td>\n",
       "      <td>{'uid': '350', 'id': 'DE*REK*E00095*002', 'sta...</td>\n",
       "      <td>None</td>\n",
       "      <td>None</td>\n",
       "      <td>350</td>\n",
       "      <td>links</td>\n",
       "      <td>95L</td>\n",
       "      <td></td>\n",
       "      <td>None</td>\n",
       "      <td>DE*REK*E00095*002</td>\n",
       "      <td>-</td>\n",
       "      <td>[{'id': '495', 'status': 'AVAILABLE', 'standar...</td>\n",
       "      <td>[RFID_READER, REMOTE_START_STOP_CAPABLE]</td>\n",
       "      <td>False</td>\n",
       "      <td>AVAILABLE</td>\n",
       "      <td>four_wheeled</td>\n",
       "    </tr>\n",
       "    <tr>\n",
       "      <th>4</th>\n",
       "      <td>7</td>\n",
       "      <td>{'uid': '289', 'id': 'DE*REK*E00103*003', 'sta...</td>\n",
       "      <td>None</td>\n",
       "      <td>None</td>\n",
       "      <td>289</td>\n",
       "      <td>rechte Station</td>\n",
       "      <td>103R</td>\n",
       "      <td></td>\n",
       "      <td>Wandladestation rechts</td>\n",
       "      <td>DE*REK*E00103*003</td>\n",
       "      <td>-</td>\n",
       "      <td>[{'id': '425', 'status': 'CHARGING', 'standard...</td>\n",
       "      <td>[RFID_READER, REMOTE_START_STOP_CAPABLE]</td>\n",
       "      <td>False</td>\n",
       "      <td>CHARGING</td>\n",
       "      <td>four_wheeled</td>\n",
       "    </tr>\n",
       "  </tbody>\n",
       "</table>\n",
       "</div>"
      ],
      "text/plain": [
       "  id_cs                                          dict_info  \\\n",
       "0     2  {'uid': '303', 'id': 'DE*REK*E00025*001', 'sta...   \n",
       "1     2  {'uid': '304', 'id': 'DE*REK*E00025*002', 'sta...   \n",
       "2     3  {'uid': '349', 'id': 'DE*REK*E00095*001', 'sta...   \n",
       "3     3  {'uid': '350', 'id': 'DE*REK*E00095*002', 'sta...   \n",
       "4     7  {'uid': '289', 'id': 'DE*REK*E00103*003', 'sta...   \n",
       "\n",
       "  chargePointPublicComment chargePointParkingSpaceNumbers  uid  \\\n",
       "0                     None                           None  303   \n",
       "1                     None                           None  304   \n",
       "2                     None                           None  349   \n",
       "3                     None                           None  350   \n",
       "4                     None                           None  289   \n",
       "\n",
       "  chargePointPosition physical_reference floor_level chargingStationPosition  \\\n",
       "0              rechts                25R                                None   \n",
       "1               links                25L                                None   \n",
       "2              rechts                95R                                None   \n",
       "3               links                95L                                None   \n",
       "4      rechte Station               103R              Wandladestation rechts   \n",
       "\n",
       "                  id parkingsensor_status  \\\n",
       "0  DE*REK*E00025*001                    -   \n",
       "1  DE*REK*E00025*002                    -   \n",
       "2  DE*REK*E00095*001                    -   \n",
       "3  DE*REK*E00095*002                    -   \n",
       "4  DE*REK*E00103*003                    -   \n",
       "\n",
       "                                          connectors  \\\n",
       "0  [{'id': '447', 'status': 'CHARGING', 'standard...   \n",
       "1  [{'id': '448', 'status': 'CHARGING', 'standard...   \n",
       "2  [{'id': '494', 'status': 'CHARGING', 'standard...   \n",
       "3  [{'id': '495', 'status': 'AVAILABLE', 'standar...   \n",
       "4  [{'id': '425', 'status': 'CHARGING', 'standard...   \n",
       "\n",
       "                               capabilities  roaming     status  vehicle_type  \n",
       "0  [RFID_READER, REMOTE_START_STOP_CAPABLE]    False   CHARGING  four_wheeled  \n",
       "1  [RFID_READER, REMOTE_START_STOP_CAPABLE]    False   CHARGING  four_wheeled  \n",
       "2  [RFID_READER, REMOTE_START_STOP_CAPABLE]    False   CHARGING  four_wheeled  \n",
       "3  [RFID_READER, REMOTE_START_STOP_CAPABLE]    False  AVAILABLE  four_wheeled  \n",
       "4  [RFID_READER, REMOTE_START_STOP_CAPABLE]    False   CHARGING  four_wheeled  "
      ]
     },
     "execution_count": 39,
     "metadata": {},
     "output_type": "execute_result"
    }
   ],
   "source": [
    "df_cp.head()"
   ]
  },
  {
   "cell_type": "code",
   "execution_count": 40,
   "metadata": {},
   "outputs": [
    {
     "data": {
      "text/plain": [
       "Index(['id_cs', 'dict_info', 'chargePointPublicComment',\n",
       "       'chargePointParkingSpaceNumbers', 'uid', 'chargePointPosition',\n",
       "       'physical_reference', 'floor_level', 'chargingStationPosition', 'id',\n",
       "       'parkingsensor_status', 'connectors', 'capabilities', 'roaming',\n",
       "       'status', 'vehicle_type'],\n",
       "      dtype='object')"
      ]
     },
     "execution_count": 40,
     "metadata": {},
     "output_type": "execute_result"
    }
   ],
   "source": [
    "df_cp.columns"
   ]
  },
  {
   "cell_type": "code",
   "execution_count": null,
   "metadata": {},
   "outputs": [],
   "source": []
  },
  {
   "cell_type": "markdown",
   "metadata": {},
   "source": [
    "### Connectors"
   ]
  },
  {
   "cell_type": "code",
   "execution_count": 29,
   "metadata": {},
   "outputs": [
    {
     "data": {
      "text/html": [
       "<div>\n",
       "<style scoped>\n",
       "    .dataframe tbody tr th:only-of-type {\n",
       "        vertical-align: middle;\n",
       "    }\n",
       "\n",
       "    .dataframe tbody tr th {\n",
       "        vertical-align: top;\n",
       "    }\n",
       "\n",
       "    .dataframe thead th {\n",
       "        text-align: right;\n",
       "    }\n",
       "</style>\n",
       "<table border=\"1\" class=\"dataframe\">\n",
       "  <thead>\n",
       "    <tr style=\"text-align: right;\">\n",
       "      <th></th>\n",
       "      <th>id_cp</th>\n",
       "      <th>dict_info</th>\n",
       "      <th>ampere</th>\n",
       "      <th>tariff_id</th>\n",
       "      <th>max_power</th>\n",
       "      <th>voltage</th>\n",
       "      <th>power_type</th>\n",
       "      <th>format</th>\n",
       "      <th>status</th>\n",
       "      <th>id</th>\n",
       "      <th>standard</th>\n",
       "    </tr>\n",
       "  </thead>\n",
       "  <tbody>\n",
       "    <tr>\n",
       "      <th>0</th>\n",
       "      <td>DE*REK*E00025*001</td>\n",
       "      <td>{'id': '447', 'status': 'CHARGING', 'standard'...</td>\n",
       "      <td>32</td>\n",
       "      <td>None</td>\n",
       "      <td>22</td>\n",
       "      <td>400</td>\n",
       "      <td>AC_3_PHASE</td>\n",
       "      <td>SOCKET</td>\n",
       "      <td>CHARGING</td>\n",
       "      <td>447</td>\n",
       "      <td>IEC_62196_T2</td>\n",
       "    </tr>\n",
       "    <tr>\n",
       "      <th>1</th>\n",
       "      <td>DE*REK*E00025*002</td>\n",
       "      <td>{'id': '448', 'status': 'CHARGING', 'standard'...</td>\n",
       "      <td>32</td>\n",
       "      <td>None</td>\n",
       "      <td>22</td>\n",
       "      <td>400</td>\n",
       "      <td>AC_3_PHASE</td>\n",
       "      <td>SOCKET</td>\n",
       "      <td>CHARGING</td>\n",
       "      <td>448</td>\n",
       "      <td>IEC_62196_T2</td>\n",
       "    </tr>\n",
       "    <tr>\n",
       "      <th>2</th>\n",
       "      <td>DE*REK*E00095*001</td>\n",
       "      <td>{'id': '494', 'status': 'CHARGING', 'standard'...</td>\n",
       "      <td>32</td>\n",
       "      <td>None</td>\n",
       "      <td>22</td>\n",
       "      <td>400</td>\n",
       "      <td>AC_3_PHASE</td>\n",
       "      <td>SOCKET</td>\n",
       "      <td>CHARGING</td>\n",
       "      <td>494</td>\n",
       "      <td>IEC_62196_T2</td>\n",
       "    </tr>\n",
       "    <tr>\n",
       "      <th>3</th>\n",
       "      <td>DE*REK*E00095*002</td>\n",
       "      <td>{'id': '495', 'status': 'AVAILABLE', 'standard...</td>\n",
       "      <td>32</td>\n",
       "      <td>None</td>\n",
       "      <td>22</td>\n",
       "      <td>400</td>\n",
       "      <td>AC_3_PHASE</td>\n",
       "      <td>SOCKET</td>\n",
       "      <td>AVAILABLE</td>\n",
       "      <td>495</td>\n",
       "      <td>IEC_62196_T2</td>\n",
       "    </tr>\n",
       "    <tr>\n",
       "      <th>4</th>\n",
       "      <td>DE*REK*E00103*003</td>\n",
       "      <td>{'id': '425', 'status': 'CHARGING', 'standard'...</td>\n",
       "      <td>32</td>\n",
       "      <td>None</td>\n",
       "      <td>22</td>\n",
       "      <td>400</td>\n",
       "      <td>AC_3_PHASE</td>\n",
       "      <td>SOCKET</td>\n",
       "      <td>CHARGING</td>\n",
       "      <td>425</td>\n",
       "      <td>IEC_62196_T2</td>\n",
       "    </tr>\n",
       "  </tbody>\n",
       "</table>\n",
       "</div>"
      ],
      "text/plain": [
       "               id_cp                                          dict_info  \\\n",
       "0  DE*REK*E00025*001  {'id': '447', 'status': 'CHARGING', 'standard'...   \n",
       "1  DE*REK*E00025*002  {'id': '448', 'status': 'CHARGING', 'standard'...   \n",
       "2  DE*REK*E00095*001  {'id': '494', 'status': 'CHARGING', 'standard'...   \n",
       "3  DE*REK*E00095*002  {'id': '495', 'status': 'AVAILABLE', 'standard...   \n",
       "4  DE*REK*E00103*003  {'id': '425', 'status': 'CHARGING', 'standard'...   \n",
       "\n",
       "  ampere tariff_id  max_power voltage  power_type  format     status   id  \\\n",
       "0     32      None         22     400  AC_3_PHASE  SOCKET   CHARGING  447   \n",
       "1     32      None         22     400  AC_3_PHASE  SOCKET   CHARGING  448   \n",
       "2     32      None         22     400  AC_3_PHASE  SOCKET   CHARGING  494   \n",
       "3     32      None         22     400  AC_3_PHASE  SOCKET  AVAILABLE  495   \n",
       "4     32      None         22     400  AC_3_PHASE  SOCKET   CHARGING  425   \n",
       "\n",
       "       standard  \n",
       "0  IEC_62196_T2  \n",
       "1  IEC_62196_T2  \n",
       "2  IEC_62196_T2  \n",
       "3  IEC_62196_T2  \n",
       "4  IEC_62196_T2  "
      ]
     },
     "execution_count": 29,
     "metadata": {},
     "output_type": "execute_result"
    }
   ],
   "source": [
    "df_conn.head()"
   ]
  },
  {
   "cell_type": "code",
   "execution_count": 41,
   "metadata": {},
   "outputs": [
    {
     "data": {
      "text/plain": [
       "Index(['id_cp', 'dict_info', 'ampere', 'tariff_id', 'max_power', 'voltage',\n",
       "       'power_type', 'format', 'status', 'id', 'standard'],\n",
       "      dtype='object')"
      ]
     },
     "execution_count": 41,
     "metadata": {},
     "output_type": "execute_result"
    }
   ],
   "source": [
    "df_conn.columns"
   ]
  },
  {
   "cell_type": "code",
   "execution_count": null,
   "metadata": {},
   "outputs": [],
   "source": []
  },
  {
   "cell_type": "markdown",
   "metadata": {},
   "source": [
    "## Fact tables"
   ]
  },
  {
   "cell_type": "code",
   "execution_count": null,
   "metadata": {},
   "outputs": [],
   "source": [
    "status_connections\n",
    "\n",
    "status_chargingpoints"
   ]
  },
  {
   "cell_type": "code",
   "execution_count": null,
   "metadata": {},
   "outputs": [],
   "source": [
    "charging_stations \n",
    "\n",
    "address\n",
    "\n",
    "\n",
    "operators\n",
    "\n",
    "\n",
    "charging_points \n",
    "\n",
    "\n",
    "connectors"
   ]
  }
 ],
 "metadata": {
  "kernelspec": {
   "display_name": "Python 3 (ipykernel)",
   "language": "python",
   "name": "python3"
  },
  "language_info": {
   "codemirror_mode": {
    "name": "ipython",
    "version": 3
   },
   "file_extension": ".py",
   "mimetype": "text/x-python",
   "name": "python",
   "nbconvert_exporter": "python",
   "pygments_lexer": "ipython3",
   "version": "3.9.7"
  }
 },
 "nbformat": 4,
 "nbformat_minor": 4
}
